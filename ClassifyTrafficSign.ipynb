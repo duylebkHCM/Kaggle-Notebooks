{
  "nbformat": 4,
  "nbformat_minor": 0,
  "metadata": {
    "colab": {
      "name": "Untitled0.ipynb",
      "provenance": [],
      "mount_file_id": "1ORCoh74HudBin27kGcp73ZGLDfAljjnX",
      "authorship_tag": "ABX9TyN4nw5roranlwLINMUKjtn7",
      "include_colab_link": true
    },
    "kernelspec": {
      "name": "python3",
      "display_name": "Python 3"
    },
    "accelerator": "GPU"
  },
  "cells": [
    {
      "cell_type": "markdown",
      "metadata": {
        "id": "view-in-github",
        "colab_type": "text"
      },
      "source": [
        "<a href=\"https://colab.research.google.com/github/duylebkHCM/Kaggle-Notebooks/blob/master/ClassifyTrafficSign.ipynb\" target=\"_parent\"><img src=\"https://colab.research.google.com/assets/colab-badge.svg\" alt=\"Open In Colab\"/></a>"
      ]
    },
    {
      "cell_type": "code",
      "metadata": {
        "id": "l2_kxBGs9Q9d",
        "colab_type": "code",
        "colab": {
          "base_uri": "https://localhost:8080/",
          "height": 34
        },
        "outputId": "cb6494f5-a72d-450c-f074-b2903982a756"
      },
      "source": [
        "%cd drive/My\\ Drive/WORKSPACE/HK192/AI/AI_COLAB"
      ],
      "execution_count": 2,
      "outputs": [
        {
          "output_type": "stream",
          "text": [
            "/content/drive/My Drive/WORKSPACE/HK192/AI/AI_COLAB\n"
          ],
          "name": "stdout"
        }
      ]
    },
    {
      "cell_type": "code",
      "metadata": {
        "id": "z-x9PWe2977c",
        "colab_type": "code",
        "colab": {
          "base_uri": "https://localhost:8080/",
          "height": 51
        },
        "outputId": "d2b643c6-79a6-4b29-ab86-14d8ab8944f9"
      },
      "source": [
        "!ls"
      ],
      "execution_count": 3,
      "outputs": [
        {
          "output_type": "stream",
          "text": [
            "COCO-GAN\t\t    PretrainedModel  TrainignMonitor   YOLO\n",
            "FaceRecognitionwithFaceNet  ProtonX\t     TransferLearning\n"
          ],
          "name": "stdout"
        }
      ]
    },
    {
      "cell_type": "code",
      "metadata": {
        "id": "RqlGxZbb-Bpd",
        "colab_type": "code",
        "colab": {
          "base_uri": "https://localhost:8080/",
          "height": 34
        },
        "outputId": "2da2a053-470e-4698-ff86-77bc8eb88aef"
      },
      "source": [
        "%cd ProtonX"
      ],
      "execution_count": 4,
      "outputs": [
        {
          "output_type": "stream",
          "text": [
            "/content/drive/My Drive/WORKSPACE/HK192/AI/AI_COLAB/ProtonX\n"
          ],
          "name": "stdout"
        }
      ]
    },
    {
      "cell_type": "code",
      "metadata": {
        "id": "_9XGRRka-EDr",
        "colab_type": "code",
        "colab": {}
      },
      "source": [
        "link = 'https://d17h27t6h515a5.cloudfront.net/topher/2017/February/5898cd6f_traffic-signs-data/traffic-signs-data.zip'"
      ],
      "execution_count": 0,
      "outputs": []
    },
    {
      "cell_type": "code",
      "metadata": {
        "id": "8APgK0jI-MEE",
        "colab_type": "code",
        "colab": {
          "base_uri": "https://localhost:8080/",
          "height": 170
        },
        "outputId": "ba6483c7-e3d2-47e2-cb57-ab01b09305a2"
      },
      "source": [
        "!pip install wget"
      ],
      "execution_count": 6,
      "outputs": [
        {
          "output_type": "stream",
          "text": [
            "Collecting wget\n",
            "  Downloading https://files.pythonhosted.org/packages/47/6a/62e288da7bcda82b935ff0c6cfe542970f04e29c756b0e147251b2fb251f/wget-3.2.zip\n",
            "Building wheels for collected packages: wget\n",
            "  Building wheel for wget (setup.py) ... \u001b[?25l\u001b[?25hdone\n",
            "  Created wheel for wget: filename=wget-3.2-cp36-none-any.whl size=9682 sha256=2b55f20ad94b5b018af8d2c2f838693841cdb332d4d2cc622f872d19d527c2b1\n",
            "  Stored in directory: /root/.cache/pip/wheels/40/15/30/7d8f7cea2902b4db79e3fea550d7d7b85ecb27ef992b618f3f\n",
            "Successfully built wget\n",
            "Installing collected packages: wget\n",
            "Successfully installed wget-3.2\n"
          ],
          "name": "stdout"
        }
      ]
    },
    {
      "cell_type": "code",
      "metadata": {
        "id": "16qklMj6-NwK",
        "colab_type": "code",
        "colab": {
          "base_uri": "https://localhost:8080/",
          "height": 34
        },
        "outputId": "b21ab8b5-ddd4-4247-ea25-0c8e28c03a65"
      },
      "source": [
        "import wget\n",
        "wget.download(link)"
      ],
      "execution_count": 7,
      "outputs": [
        {
          "output_type": "execute_result",
          "data": {
            "text/plain": [
              "'traffic-signs-data (1).zip'"
            ]
          },
          "metadata": {
            "tags": []
          },
          "execution_count": 7
        }
      ]
    },
    {
      "cell_type": "code",
      "metadata": {
        "id": "ShTsBHLL-XTp",
        "colab_type": "code",
        "colab": {}
      },
      "source": [
        "data = './'"
      ],
      "execution_count": 0,
      "outputs": []
    },
    {
      "cell_type": "code",
      "metadata": {
        "id": "1frH474O-h2G",
        "colab_type": "code",
        "colab": {
          "base_uri": "https://localhost:8080/",
          "height": 68
        },
        "outputId": "fa159fa3-b3ef-44b6-a885-f9b89a66a02d"
      },
      "source": [
        "!unzip -q traffic-signs-data.zip -d $data"
      ],
      "execution_count": 9,
      "outputs": [
        {
          "output_type": "stream",
          "text": [
            "replace ./test.p? [y]es, [n]o, [A]ll, [N]one, [r]ename: n\n",
            "replace ./train.p? [y]es, [n]o, [A]ll, [N]one, [r]ename: n\n",
            "replace ./valid.p? [y]es, [n]o, [A]ll, [N]one, [r]ename: n\n"
          ],
          "name": "stdout"
        }
      ]
    },
    {
      "cell_type": "code",
      "metadata": {
        "id": "M4dHVtRQ-rCg",
        "colab_type": "code",
        "colab": {}
      },
      "source": [
        "train_data = data + 'train.p'\n",
        "valid_data = data + 'valid.p'\n",
        "test_data = data + 'test.p'"
      ],
      "execution_count": 0,
      "outputs": []
    },
    {
      "cell_type": "code",
      "metadata": {
        "id": "OZrs3G2O_SAG",
        "colab_type": "code",
        "colab": {}
      },
      "source": [
        "import pickle\n",
        "with open(train_data, mode = 'rb') as f:\n",
        "  train = pickle.load(f)\n",
        "with open (valid_data,  mode = 'rb') as f:\n",
        "  valid = pickle.load(f)\n",
        "with open(test_data, mode = 'rb') as f:\n",
        "  test = pickle.load(f)"
      ],
      "execution_count": 0,
      "outputs": []
    },
    {
      "cell_type": "code",
      "metadata": {
        "id": "gz7UU9dr_8-p",
        "colab_type": "code",
        "colab": {
          "base_uri": "https://localhost:8080/",
          "height": 1000
        },
        "outputId": "38113a5a-d0f2-40f3-a40d-dd85aa13165a"
      },
      "source": [
        "train"
      ],
      "execution_count": 12,
      "outputs": [
        {
          "output_type": "execute_result",
          "data": {
            "text/plain": [
              "{'coords': array([[  6,   5,  21,  20],\n",
              "        [  6,   6,  22,  22],\n",
              "        [  5,   6,  22,  23],\n",
              "        ...,\n",
              "        [ 17,  15, 178, 155],\n",
              "        [ 17,  15, 183, 160],\n",
              "        [ 20,  18, 211, 184]], dtype=uint8),\n",
              " 'features': array([[[[ 28,  25,  24],\n",
              "          [ 27,  24,  23],\n",
              "          [ 27,  24,  22],\n",
              "          ...,\n",
              "          [ 32,  28,  24],\n",
              "          [ 31,  27,  25],\n",
              "          [ 31,  27,  26]],\n",
              " \n",
              "         [[ 29,  26,  25],\n",
              "          [ 27,  25,  23],\n",
              "          [ 27,  25,  23],\n",
              "          ...,\n",
              "          [ 32,  28,  24],\n",
              "          [ 31,  27,  24],\n",
              "          [ 30,  27,  25]],\n",
              " \n",
              "         [[ 28,  26,  26],\n",
              "          [ 27,  25,  23],\n",
              "          [ 26,  25,  23],\n",
              "          ...,\n",
              "          [ 32,  28,  24],\n",
              "          [ 31,  27,  24],\n",
              "          [ 30,  27,  25]],\n",
              " \n",
              "         ...,\n",
              " \n",
              "         [[ 27,  24,  23],\n",
              "          [ 28,  25,  24],\n",
              "          [ 30,  25,  24],\n",
              "          ...,\n",
              "          [ 27,  24,  23],\n",
              "          [ 28,  24,  22],\n",
              "          [ 29,  25,  22]],\n",
              " \n",
              "         [[ 28,  23,  23],\n",
              "          [ 29,  24,  24],\n",
              "          [ 31,  25,  24],\n",
              "          ...,\n",
              "          [ 27,  24,  23],\n",
              "          [ 28,  24,  22],\n",
              "          [ 28,  24,  21]],\n",
              " \n",
              "         [[ 29,  23,  23],\n",
              "          [ 30,  24,  24],\n",
              "          [ 32,  24,  23],\n",
              "          ...,\n",
              "          [ 27,  24,  22],\n",
              "          [ 27,  23,  21],\n",
              "          [ 26,  22,  20]]],\n",
              " \n",
              " \n",
              "        [[[ 28,  24,  24],\n",
              "          [ 26,  23,  23],\n",
              "          [ 27,  24,  24],\n",
              "          ...,\n",
              "          [ 31,  28,  26],\n",
              "          [ 31,  28,  27],\n",
              "          [ 32,  28,  27]],\n",
              " \n",
              "         [[ 27,  24,  24],\n",
              "          [ 27,  24,  24],\n",
              "          [ 28,  25,  24],\n",
              "          ...,\n",
              "          [ 31,  27,  25],\n",
              "          [ 31,  27,  26],\n",
              "          [ 33,  29,  27]],\n",
              " \n",
              "         [[ 26,  24,  24],\n",
              "          [ 26,  24,  24],\n",
              "          [ 27,  24,  23],\n",
              "          ...,\n",
              "          [ 31,  26,  25],\n",
              "          [ 31,  27,  26],\n",
              "          [ 33,  29,  27]],\n",
              " \n",
              "         ...,\n",
              " \n",
              "         [[ 28,  25,  23],\n",
              "          [ 30,  27,  24],\n",
              "          [ 30,  27,  24],\n",
              "          ...,\n",
              "          [ 27,  24,  22],\n",
              "          [ 27,  24,  22],\n",
              "          [ 28,  24,  22]],\n",
              " \n",
              "         [[ 27,  24,  22],\n",
              "          [ 29,  26,  23],\n",
              "          [ 31,  26,  24],\n",
              "          ...,\n",
              "          [ 26,  23,  21],\n",
              "          [ 27,  24,  22],\n",
              "          [ 28,  25,  23]],\n",
              " \n",
              "         [[ 28,  24,  23],\n",
              "          [ 28,  24,  22],\n",
              "          [ 29,  24,  22],\n",
              "          ...,\n",
              "          [ 27,  23,  22],\n",
              "          [ 27,  24,  23],\n",
              "          [ 29,  26,  25]]],\n",
              " \n",
              " \n",
              "        [[[ 29,  25,  25],\n",
              "          [ 29,  26,  26],\n",
              "          [ 30,  27,  27],\n",
              "          ...,\n",
              "          [ 31,  27,  24],\n",
              "          [ 31,  28,  25],\n",
              "          [ 32,  29,  27]],\n",
              " \n",
              "         [[ 27,  24,  24],\n",
              "          [ 27,  25,  25],\n",
              "          [ 28,  26,  26],\n",
              "          ...,\n",
              "          [ 31,  27,  23],\n",
              "          [ 32,  28,  25],\n",
              "          [ 33,  30,  27]],\n",
              " \n",
              "         [[ 27,  24,  24],\n",
              "          [ 28,  26,  26],\n",
              "          [ 29,  27,  27],\n",
              "          ...,\n",
              "          [ 32,  28,  24],\n",
              "          [ 32,  28,  24],\n",
              "          [ 33,  29,  26]],\n",
              " \n",
              "         ...,\n",
              " \n",
              "         [[ 28,  26,  22],\n",
              "          [ 29,  26,  21],\n",
              "          [ 31,  26,  22],\n",
              "          ...,\n",
              "          [ 29,  24,  21],\n",
              "          [ 28,  23,  20],\n",
              "          [ 28,  23,  22]],\n",
              " \n",
              "         [[ 27,  26,  23],\n",
              "          [ 28,  25,  21],\n",
              "          [ 30,  25,  22],\n",
              "          ...,\n",
              "          [ 28,  23,  21],\n",
              "          [ 27,  22,  20],\n",
              "          [ 28,  24,  22]],\n",
              " \n",
              "         [[ 29,  26,  23],\n",
              "          [ 28,  24,  21],\n",
              "          [ 29,  24,  21],\n",
              "          ...,\n",
              "          [ 29,  25,  23],\n",
              "          [ 28,  24,  22],\n",
              "          [ 30,  26,  24]]],\n",
              " \n",
              " \n",
              "        ...,\n",
              " \n",
              " \n",
              "        [[[ 51,  67,  86],\n",
              "          [ 55,  59,  71],\n",
              "          [ 75,  81,  92],\n",
              "          ...,\n",
              "          [250, 248, 243],\n",
              "          [207, 212, 233],\n",
              "          [121, 116, 140]],\n",
              " \n",
              "         [[ 35,  42,  49],\n",
              "          [ 48,  47,  51],\n",
              "          [ 91,  96, 113],\n",
              "          ...,\n",
              "          [220, 224, 226],\n",
              "          [169, 177, 187],\n",
              "          [ 84,  87, 100]],\n",
              " \n",
              "         [[ 27,  26,  29],\n",
              "          [ 41,  38,  39],\n",
              "          [ 55,  64,  78],\n",
              "          ...,\n",
              "          [122, 143, 160],\n",
              "          [ 97, 104, 129],\n",
              "          [ 59,  59,  56]],\n",
              " \n",
              "         ...,\n",
              " \n",
              "         [[ 24,  23,  27],\n",
              "          [ 21,  20,  27],\n",
              "          [ 20,  19,  22],\n",
              "          ...,\n",
              "          [ 76,  79,  83],\n",
              "          [ 54,  64,  77],\n",
              "          [ 45,  51,  65]],\n",
              " \n",
              "         [[ 31,  31,  33],\n",
              "          [ 22,  23,  29],\n",
              "          [ 20,  18,  21],\n",
              "          ...,\n",
              "          [ 66,  67,  84],\n",
              "          [ 56,  65,  74],\n",
              "          [ 45,  55,  73]],\n",
              " \n",
              "         [[ 28,  28,  30],\n",
              "          [ 22,  21,  25],\n",
              "          [ 19,  18,  19],\n",
              "          ...,\n",
              "          [ 67,  63,  76],\n",
              "          [ 39,  45,  55],\n",
              "          [ 32,  37,  47]]],\n",
              " \n",
              " \n",
              "        [[[ 82,  78,  96],\n",
              "          [120, 126, 148],\n",
              "          [112, 125, 146],\n",
              "          ...,\n",
              "          [185, 182, 177],\n",
              "          [204, 210, 215],\n",
              "          [132, 114, 121]],\n",
              " \n",
              "         [[ 74,  77,  93],\n",
              "          [171, 174, 185],\n",
              "          [137, 164, 184],\n",
              "          ...,\n",
              "          [180, 181, 187],\n",
              "          [198, 200, 213],\n",
              "          [ 79,  85,  85]],\n",
              " \n",
              "         [[ 54,  50,  56],\n",
              "          [100, 106, 118],\n",
              "          [117, 132, 158],\n",
              "          ...,\n",
              "          [157, 153, 160],\n",
              "          [176, 183, 199],\n",
              "          [ 88,  80,  82]],\n",
              " \n",
              "         ...,\n",
              " \n",
              "         [[ 22,  21,  22],\n",
              "          [ 20,  19,  19],\n",
              "          [ 18,  16,  19],\n",
              "          ...,\n",
              "          [ 50,  50,  60],\n",
              "          [ 37,  43,  52],\n",
              "          [ 30,  41,  59]],\n",
              " \n",
              "         [[ 18,  16,  18],\n",
              "          [ 19,  17,  18],\n",
              "          [ 19,  18,  21],\n",
              "          ...,\n",
              "          [ 36,  44,  60],\n",
              "          [ 33,  36,  48],\n",
              "          [ 36,  43,  61]],\n",
              " \n",
              "         [[ 18,  17,  20],\n",
              "          [ 21,  20,  23],\n",
              "          [ 24,  22,  25],\n",
              "          ...,\n",
              "          [ 32,  34,  41],\n",
              "          [ 45,  42,  48],\n",
              "          [ 41,  43,  52]]],\n",
              " \n",
              " \n",
              "        [[[ 69,  79,  96],\n",
              "          [ 24,  26,  28],\n",
              "          [ 40,  42,  45],\n",
              "          ...,\n",
              "          [225, 234, 237],\n",
              "          [151, 161, 166],\n",
              "          [164, 162, 169]],\n",
              " \n",
              "         [[ 99, 110, 125],\n",
              "          [ 36,  41,  47],\n",
              "          [ 63,  56,  62],\n",
              "          ...,\n",
              "          [197, 216, 224],\n",
              "          [154, 163, 169],\n",
              "          [164, 163, 159]],\n",
              " \n",
              "         [[104, 107, 113],\n",
              "          [ 34,  37,  40],\n",
              "          [ 72,  70,  77],\n",
              "          ...,\n",
              "          [223, 237, 235],\n",
              "          [181, 192, 198],\n",
              "          [166, 167, 159]],\n",
              " \n",
              "         ...,\n",
              " \n",
              "         [[ 21,  20,  23],\n",
              "          [ 23,  24,  30],\n",
              "          [ 19,  20,  24],\n",
              "          ...,\n",
              "          [ 45,  47,  54],\n",
              "          [ 58,  62,  70],\n",
              "          [ 58,  70,  82]],\n",
              " \n",
              "         [[ 18,  17,  21],\n",
              "          [ 19,  19,  24],\n",
              "          [ 18,  18,  23],\n",
              "          ...,\n",
              "          [ 36,  36,  40],\n",
              "          [ 58,  59,  70],\n",
              "          [ 61,  69,  81]],\n",
              " \n",
              "         [[ 17,  16,  19],\n",
              "          [ 16,  15,  18],\n",
              "          [ 16,  15,  18],\n",
              "          ...,\n",
              "          [ 40,  40,  44],\n",
              "          [ 57,  62,  73],\n",
              "          [ 57,  68,  80]]]], dtype=uint8),\n",
              " 'labels': array([41, 41, 41, ..., 25, 25, 25], dtype=uint8),\n",
              " 'sizes': array([[ 26,  25],\n",
              "        [ 27,  27],\n",
              "        [ 27,  28],\n",
              "        ...,\n",
              "        [194, 169],\n",
              "        [201, 175],\n",
              "        [230, 201]], dtype=uint8)}"
            ]
          },
          "metadata": {
            "tags": []
          },
          "execution_count": 12
        }
      ]
    },
    {
      "cell_type": "code",
      "metadata": {
        "id": "H_g9IaQBApoE",
        "colab_type": "code",
        "colab": {}
      },
      "source": [
        "trainX = train['features']\n",
        "trainY = train['labels']"
      ],
      "execution_count": 0,
      "outputs": []
    },
    {
      "cell_type": "code",
      "metadata": {
        "id": "rwChc6JMA6y4",
        "colab_type": "code",
        "colab": {
          "base_uri": "https://localhost:8080/",
          "height": 34
        },
        "outputId": "438ba822-6295-4058-9662-74e480096a3c"
      },
      "source": [
        "trainX.shape"
      ],
      "execution_count": 14,
      "outputs": [
        {
          "output_type": "execute_result",
          "data": {
            "text/plain": [
              "(34799, 32, 32, 3)"
            ]
          },
          "metadata": {
            "tags": []
          },
          "execution_count": 14
        }
      ]
    },
    {
      "cell_type": "code",
      "metadata": {
        "id": "Ia4DnpZXBGWR",
        "colab_type": "code",
        "colab": {
          "base_uri": "https://localhost:8080/",
          "height": 34
        },
        "outputId": "f1c014ce-7f70-44da-f1a0-df5fe749ced5"
      },
      "source": [
        "trainY.shape"
      ],
      "execution_count": 15,
      "outputs": [
        {
          "output_type": "execute_result",
          "data": {
            "text/plain": [
              "(34799,)"
            ]
          },
          "metadata": {
            "tags": []
          },
          "execution_count": 15
        }
      ]
    },
    {
      "cell_type": "code",
      "metadata": {
        "id": "PWdJNzM1BIME",
        "colab_type": "code",
        "colab": {
          "base_uri": "https://localhost:8080/",
          "height": 850
        },
        "outputId": "4f857dec-e93a-41e8-8b10-8602b5b34456"
      },
      "source": [
        "trainX[0]"
      ],
      "execution_count": 16,
      "outputs": [
        {
          "output_type": "execute_result",
          "data": {
            "text/plain": [
              "array([[[28, 25, 24],\n",
              "        [27, 24, 23],\n",
              "        [27, 24, 22],\n",
              "        ...,\n",
              "        [32, 28, 24],\n",
              "        [31, 27, 25],\n",
              "        [31, 27, 26]],\n",
              "\n",
              "       [[29, 26, 25],\n",
              "        [27, 25, 23],\n",
              "        [27, 25, 23],\n",
              "        ...,\n",
              "        [32, 28, 24],\n",
              "        [31, 27, 24],\n",
              "        [30, 27, 25]],\n",
              "\n",
              "       [[28, 26, 26],\n",
              "        [27, 25, 23],\n",
              "        [26, 25, 23],\n",
              "        ...,\n",
              "        [32, 28, 24],\n",
              "        [31, 27, 24],\n",
              "        [30, 27, 25]],\n",
              "\n",
              "       ...,\n",
              "\n",
              "       [[27, 24, 23],\n",
              "        [28, 25, 24],\n",
              "        [30, 25, 24],\n",
              "        ...,\n",
              "        [27, 24, 23],\n",
              "        [28, 24, 22],\n",
              "        [29, 25, 22]],\n",
              "\n",
              "       [[28, 23, 23],\n",
              "        [29, 24, 24],\n",
              "        [31, 25, 24],\n",
              "        ...,\n",
              "        [27, 24, 23],\n",
              "        [28, 24, 22],\n",
              "        [28, 24, 21]],\n",
              "\n",
              "       [[29, 23, 23],\n",
              "        [30, 24, 24],\n",
              "        [32, 24, 23],\n",
              "        ...,\n",
              "        [27, 24, 22],\n",
              "        [27, 23, 21],\n",
              "        [26, 22, 20]]], dtype=uint8)"
            ]
          },
          "metadata": {
            "tags": []
          },
          "execution_count": 16
        }
      ]
    },
    {
      "cell_type": "code",
      "metadata": {
        "id": "WULajS-zBKRX",
        "colab_type": "code",
        "colab": {
          "base_uri": "https://localhost:8080/",
          "height": 34
        },
        "outputId": "d0d1e589-bb1b-4382-d2eb-d1e1bb93a0ef"
      },
      "source": [
        "trainX[0].shape"
      ],
      "execution_count": 17,
      "outputs": [
        {
          "output_type": "execute_result",
          "data": {
            "text/plain": [
              "(32, 32, 3)"
            ]
          },
          "metadata": {
            "tags": []
          },
          "execution_count": 17
        }
      ]
    },
    {
      "cell_type": "code",
      "metadata": {
        "id": "rtp5Z1g6BNZG",
        "colab_type": "code",
        "colab": {
          "base_uri": "https://localhost:8080/",
          "height": 283
        },
        "outputId": "4dd5fbe5-46a8-4951-9486-2a30095b7a22"
      },
      "source": [
        "import matplotlib.pyplot as plt\n",
        "plt.imshow(trainX[0])\n"
      ],
      "execution_count": 18,
      "outputs": [
        {
          "output_type": "execute_result",
          "data": {
            "text/plain": [
              "<matplotlib.image.AxesImage at 0x7f34e7504780>"
            ]
          },
          "metadata": {
            "tags": []
          },
          "execution_count": 18
        },
        {
          "output_type": "display_data",
          "data": {
            "image/png": "[encoded data removed]",
            "text/plain": [
              "<Figure size 432x288 with 1 Axes>"
            ]
          },
          "metadata": {
            "tags": [],
            "needs_background": "light"
          }
        }
      ]
    },
    {
      "cell_type": "code",
      "metadata": {
        "id": "wXMcrhtTBVMb",
        "colab_type": "code",
        "colab": {
          "base_uri": "https://localhost:8080/",
          "height": 283
        },
        "outputId": "a546adb9-ad78-4f19-a82e-e88c48d60266"
      },
      "source": [
        "plt.imshow(trainX[1])"
      ],
      "execution_count": 19,
      "outputs": [
        {
          "output_type": "execute_result",
          "data": {
            "text/plain": [
              "<matplotlib.image.AxesImage at 0x7f34e749cb70>"
            ]
          },
          "metadata": {
            "tags": []
          },
          "execution_count": 19
        },
        {
          "output_type": "display_data",
          "data": {
            "image/png": "[encoded data removed]",
            "text/plain": [
              "<Figure size 432x288 with 1 Axes>"
            ]
          },
          "metadata": {
            "tags": [],
            "needs_background": "light"
          }
        }
      ]
    },
    {
      "cell_type": "code",
      "metadata": {
        "id": "LK8RJct6BY2x",
        "colab_type": "code",
        "colab": {
          "base_uri": "https://localhost:8080/",
          "height": 283
        },
        "outputId": "b3333542-3fa9-4db3-e30a-d4791a81c1a5"
      },
      "source": [
        "plt.imshow(trainX[50])"
      ],
      "execution_count": 20,
      "outputs": [
        {
          "output_type": "execute_result",
          "data": {
            "text/plain": [
              "<matplotlib.image.AxesImage at 0x7f34e6fb6dd8>"
            ]
          },
          "metadata": {
            "tags": []
          },
          "execution_count": 20
        },
        {
          "output_type": "display_data",
          "data": {
            "image/png": "[encoded data removed]",
            "text/plain": [
              "<Figure size 432x288 with 1 Axes>"
            ]
          },
          "metadata": {
            "tags": [],
            "needs_background": "light"
          }
        }
      ]
    },
    {
      "cell_type": "code",
      "metadata": {
        "id": "EL5d1aKdBb2g",
        "colab_type": "code",
        "colab": {
          "base_uri": "https://localhost:8080/",
          "height": 34
        },
        "outputId": "55ca3a35-9015-4c31-ded1-40f14ecd2018"
      },
      "source": [
        "trainY[50]"
      ],
      "execution_count": 21,
      "outputs": [
        {
          "output_type": "execute_result",
          "data": {
            "text/plain": [
              "41"
            ]
          },
          "metadata": {
            "tags": []
          },
          "execution_count": 21
        }
      ]
    },
    {
      "cell_type": "code",
      "metadata": {
        "id": "X--CY8CRBnxL",
        "colab_type": "code",
        "colab": {}
      },
      "source": [
        "classNames = {0: 'Speed limit (20km/h)',\n",
        " 1: 'Speed limit (30km/h)',\n",
        " 2: 'Speed limit (50km/h)',\n",
        " 3: 'Speed limit (60km/h)',\n",
        " 4: 'Speed limit (70km/h)',\n",
        " 5: 'Speed limit (80km/h)',\n",
        " 6: 'End of speed limit (80km/h)',\n",
        " 7: 'Speed limit (100km/h)',\n",
        " 8: 'Speed limit (120km/h)',\n",
        " 9: 'No passing',\n",
        " 10: 'No passing for vehicles over 3.5 metric tons',\n",
        " 11: 'Right-of-way at the next intersection',\n",
        " 12: 'Priority road',\n",
        " 13: 'Yield',\n",
        " 14: 'Stop',\n",
        " 15: 'No vehicles',\n",
        " 16: 'Vehicles over 3.5 metric tons prohibited',\n",
        " 17: 'No entry',\n",
        " 18: 'General caution',\n",
        " 19: 'Dangerous curve to the left',\n",
        " 20: 'Dangerous curve to the right',\n",
        " 21: 'Double curve',\n",
        " 22: 'Bumpy road',\n",
        " 23: 'Slippery road',\n",
        " 24: 'Road narrows on the right',\n",
        " 25: 'Road work',\n",
        " 26: 'Traffic signals',\n",
        " 27: 'Pedestrians',\n",
        " 28: 'Children crossing',\n",
        " 29: 'Bicycles crossing',\n",
        " 30: 'Beware of ice/snow',\n",
        " 31: 'Wild animals crossing',\n",
        " 32: 'End of all speed and passing limits',\n",
        " 33: 'Turn right ahead',\n",
        " 34: 'Turn left ahead',\n",
        " 35: 'Ahead only',\n",
        " 36: 'Go straight or right',\n",
        " 37: 'Go straight or left',\n",
        " 38: 'Keep right',\n",
        " 39: 'Keep left',\n",
        " 40: 'Roundabout mandatory',\n",
        " 41: 'End of no passing',\n",
        " 42: 'End of no passing by vehicles over 3.5 metric tons'}"
      ],
      "execution_count": 0,
      "outputs": []
    },
    {
      "cell_type": "code",
      "metadata": {
        "id": "tPdwCAckBwv2",
        "colab_type": "code",
        "colab": {
          "base_uri": "https://localhost:8080/",
          "height": 34
        },
        "outputId": "fe1d955d-28ba-452a-8f37-4ddc1b0dcaa6"
      },
      "source": [
        "classNames[trainY[50]]"
      ],
      "execution_count": 23,
      "outputs": [
        {
          "output_type": "execute_result",
          "data": {
            "text/plain": [
              "'End of no passing'"
            ]
          },
          "metadata": {
            "tags": []
          },
          "execution_count": 23
        }
      ]
    },
    {
      "cell_type": "code",
      "metadata": {
        "id": "1jBD7NV6B97N",
        "colab_type": "code",
        "colab": {}
      },
      "source": [
        "from sklearn.utils import shuffle\n",
        "\n",
        "trainX, trainY = shuffle(trainX, trainY)"
      ],
      "execution_count": 0,
      "outputs": []
    },
    {
      "cell_type": "code",
      "metadata": {
        "id": "DsJJPrFECH3k",
        "colab_type": "code",
        "colab": {
          "base_uri": "https://localhost:8080/",
          "height": 850
        },
        "outputId": "09e3d663-4bdd-46d9-981f-0150101872dc"
      },
      "source": [
        "trainX[0]"
      ],
      "execution_count": 25,
      "outputs": [
        {
          "output_type": "execute_result",
          "data": {
            "text/plain": [
              "array([[[19, 21, 26],\n",
              "        [22, 25, 30],\n",
              "        [25, 27, 31],\n",
              "        ...,\n",
              "        [26, 25, 27],\n",
              "        [22, 25, 27],\n",
              "        [29, 31, 33]],\n",
              "\n",
              "       [[18, 20, 25],\n",
              "        [22, 26, 31],\n",
              "        [31, 33, 36],\n",
              "        ...,\n",
              "        [26, 26, 29],\n",
              "        [25, 27, 31],\n",
              "        [26, 28, 30]],\n",
              "\n",
              "       [[24, 27, 29],\n",
              "        [27, 30, 32],\n",
              "        [29, 31, 32],\n",
              "        ...,\n",
              "        [28, 29, 33],\n",
              "        [27, 28, 31],\n",
              "        [27, 28, 29]],\n",
              "\n",
              "       ...,\n",
              "\n",
              "       [[19, 21, 22],\n",
              "        [21, 25, 24],\n",
              "        [23, 26, 24],\n",
              "        ...,\n",
              "        [27, 24, 22],\n",
              "        [27, 25, 24],\n",
              "        [26, 23, 24]],\n",
              "\n",
              "       [[25, 24, 25],\n",
              "        [21, 23, 24],\n",
              "        [20, 23, 25],\n",
              "        ...,\n",
              "        [25, 28, 26],\n",
              "        [27, 27, 27],\n",
              "        [26, 26, 26]],\n",
              "\n",
              "       [[23, 22, 21],\n",
              "        [21, 24, 24],\n",
              "        [20, 24, 26],\n",
              "        ...,\n",
              "        [25, 28, 25],\n",
              "        [26, 26, 24],\n",
              "        [24, 25, 24]]], dtype=uint8)"
            ]
          },
          "metadata": {
            "tags": []
          },
          "execution_count": 25
        }
      ]
    },
    {
      "cell_type": "code",
      "metadata": {
        "id": "mveSjr3-CK81",
        "colab_type": "code",
        "colab": {
          "base_uri": "https://localhost:8080/",
          "height": 283
        },
        "outputId": "76c9171c-aedf-4e0b-a460-ce12d3ec9ad2"
      },
      "source": [
        "plt.imshow(trainX[0])"
      ],
      "execution_count": 26,
      "outputs": [
        {
          "output_type": "execute_result",
          "data": {
            "text/plain": [
              "<matplotlib.image.AxesImage at 0x7f34dc95a0b8>"
            ]
          },
          "metadata": {
            "tags": []
          },
          "execution_count": 26
        },
        {
          "output_type": "display_data",
          "data": {
            "image/png": "[encoded data removed]",
            "text/plain": [
              "<Figure size 432x288 with 1 Axes>"
            ]
          },
          "metadata": {
            "tags": [],
            "needs_background": "light"
          }
        }
      ]
    },
    {
      "cell_type": "code",
      "metadata": {
        "id": "FCZVMUjiCPFT",
        "colab_type": "code",
        "colab": {}
      },
      "source": [
        "validX = valid['features']\n",
        "validY = valid['labels']"
      ],
      "execution_count": 0,
      "outputs": []
    },
    {
      "cell_type": "code",
      "metadata": {
        "id": "j9fQiwN-CUci",
        "colab_type": "code",
        "colab": {}
      },
      "source": [
        "testX = test['features']\n",
        "testY = test['labels']"
      ],
      "execution_count": 0,
      "outputs": []
    },
    {
      "cell_type": "code",
      "metadata": {
        "id": "brSwrrg7CYcF",
        "colab_type": "code",
        "colab": {}
      },
      "source": [
        "trainX = trainX.astype('float')/255.0\n",
        "validX = validX.astype('float')/255.0\n",
        "testX = testX.astype('float')/255.0"
      ],
      "execution_count": 0,
      "outputs": []
    },
    {
      "cell_type": "code",
      "metadata": {
        "id": "MwpzYZZoCy8-",
        "colab_type": "code",
        "colab": {
          "base_uri": "https://localhost:8080/",
          "height": 850
        },
        "outputId": "74a4a6bd-45f2-4d34-875d-e94d0738e069"
      },
      "source": [
        "trainX[0]"
      ],
      "execution_count": 30,
      "outputs": [
        {
          "output_type": "execute_result",
          "data": {
            "text/plain": [
              "array([[[0.0745098 , 0.08235294, 0.10196078],\n",
              "        [0.08627451, 0.09803922, 0.11764706],\n",
              "        [0.09803922, 0.10588235, 0.12156863],\n",
              "        ...,\n",
              "        [0.10196078, 0.09803922, 0.10588235],\n",
              "        [0.08627451, 0.09803922, 0.10588235],\n",
              "        [0.11372549, 0.12156863, 0.12941176]],\n",
              "\n",
              "       [[0.07058824, 0.07843137, 0.09803922],\n",
              "        [0.08627451, 0.10196078, 0.12156863],\n",
              "        [0.12156863, 0.12941176, 0.14117647],\n",
              "        ...,\n",
              "        [0.10196078, 0.10196078, 0.11372549],\n",
              "        [0.09803922, 0.10588235, 0.12156863],\n",
              "        [0.10196078, 0.10980392, 0.11764706]],\n",
              "\n",
              "       [[0.09411765, 0.10588235, 0.11372549],\n",
              "        [0.10588235, 0.11764706, 0.1254902 ],\n",
              "        [0.11372549, 0.12156863, 0.1254902 ],\n",
              "        ...,\n",
              "        [0.10980392, 0.11372549, 0.12941176],\n",
              "        [0.10588235, 0.10980392, 0.12156863],\n",
              "        [0.10588235, 0.10980392, 0.11372549]],\n",
              "\n",
              "       ...,\n",
              "\n",
              "       [[0.0745098 , 0.08235294, 0.08627451],\n",
              "        [0.08235294, 0.09803922, 0.09411765],\n",
              "        [0.09019608, 0.10196078, 0.09411765],\n",
              "        ...,\n",
              "        [0.10588235, 0.09411765, 0.08627451],\n",
              "        [0.10588235, 0.09803922, 0.09411765],\n",
              "        [0.10196078, 0.09019608, 0.09411765]],\n",
              "\n",
              "       [[0.09803922, 0.09411765, 0.09803922],\n",
              "        [0.08235294, 0.09019608, 0.09411765],\n",
              "        [0.07843137, 0.09019608, 0.09803922],\n",
              "        ...,\n",
              "        [0.09803922, 0.10980392, 0.10196078],\n",
              "        [0.10588235, 0.10588235, 0.10588235],\n",
              "        [0.10196078, 0.10196078, 0.10196078]],\n",
              "\n",
              "       [[0.09019608, 0.08627451, 0.08235294],\n",
              "        [0.08235294, 0.09411765, 0.09411765],\n",
              "        [0.07843137, 0.09411765, 0.10196078],\n",
              "        ...,\n",
              "        [0.09803922, 0.10980392, 0.09803922],\n",
              "        [0.10196078, 0.10196078, 0.09411765],\n",
              "        [0.09411765, 0.09803922, 0.09411765]]])"
            ]
          },
          "metadata": {
            "tags": []
          },
          "execution_count": 30
        }
      ]
    },
    {
      "cell_type": "code",
      "metadata": {
        "id": "_hQFwUUVC1JJ",
        "colab_type": "code",
        "colab": {}
      },
      "source": [
        "from sklearn.preprocessing import LabelBinarizer"
      ],
      "execution_count": 0,
      "outputs": []
    },
    {
      "cell_type": "code",
      "metadata": {
        "id": "OuBe2-3yDDU1",
        "colab_type": "code",
        "colab": {}
      },
      "source": [
        "lb = LabelBinarizer()"
      ],
      "execution_count": 0,
      "outputs": []
    },
    {
      "cell_type": "code",
      "metadata": {
        "id": "FjGE5w_CDFBS",
        "colab_type": "code",
        "colab": {}
      },
      "source": [
        "trainY = lb.fit_transform(trainY)\n",
        "validY = lb.fit_transform(validY)"
      ],
      "execution_count": 0,
      "outputs": []
    },
    {
      "cell_type": "code",
      "metadata": {
        "id": "wTMkiW5sDM8n",
        "colab_type": "code",
        "colab": {
          "base_uri": "https://localhost:8080/",
          "height": 51
        },
        "outputId": "ad20fed8-6cca-44ae-a688-313d09c0aa27"
      },
      "source": [
        "validY[0]"
      ],
      "execution_count": 34,
      "outputs": [
        {
          "output_type": "execute_result",
          "data": {
            "text/plain": [
              "array([0, 0, 0, 0, 0, 0, 0, 0, 0, 0, 0, 0, 0, 0, 0, 0, 0, 0, 0, 0, 0, 0,\n",
              "       0, 0, 0, 0, 0, 0, 0, 0, 0, 0, 0, 0, 0, 0, 0, 0, 0, 0, 0, 1, 0])"
            ]
          },
          "metadata": {
            "tags": []
          },
          "execution_count": 34
        }
      ]
    },
    {
      "cell_type": "code",
      "metadata": {
        "id": "f30sKDb0DOyw",
        "colab_type": "code",
        "colab": {
          "base_uri": "https://localhost:8080/",
          "height": 51
        },
        "outputId": "8287cdc5-8658-41f9-8907-5e997a3f314b"
      },
      "source": [
        "trainY[0]"
      ],
      "execution_count": 35,
      "outputs": [
        {
          "output_type": "execute_result",
          "data": {
            "text/plain": [
              "array([0, 0, 0, 0, 0, 1, 0, 0, 0, 0, 0, 0, 0, 0, 0, 0, 0, 0, 0, 0, 0, 0,\n",
              "       0, 0, 0, 0, 0, 0, 0, 0, 0, 0, 0, 0, 0, 0, 0, 0, 0, 0, 0, 0, 0])"
            ]
          },
          "metadata": {
            "tags": []
          },
          "execution_count": 35
        }
      ]
    },
    {
      "cell_type": "code",
      "metadata": {
        "id": "uq8pzT-3Dcdh",
        "colab_type": "code",
        "colab": {}
      },
      "source": [
        "from tensorflow.keras.models import Model\n",
        "from tensorflow.keras.models import Sequential\n",
        "from tensorflow.keras.layers import BatchNormalization\n",
        "from tensorflow.keras.layers import Conv2D\n",
        "from tensorflow.keras.layers import MaxPooling2D\n",
        "from tensorflow.keras.layers import Activation\n",
        "from tensorflow.keras.layers import Dropout\n",
        "from tensorflow.keras.layers import Flatten\n",
        "from tensorflow.keras.layers import Dense\n",
        "from tensorflow.keras.layers import concatenate\n",
        "from tensorflow.keras.preprocessing.image import ImageDataGenerator\n",
        "from tensorflow.keras.optimizers import SGD"
      ],
      "execution_count": 0,
      "outputs": []
    },
    {
      "cell_type": "code",
      "metadata": {
        "id": "esG0wS55E1k0",
        "colab_type": "code",
        "colab": {}
      },
      "source": [
        "model = Sequential()"
      ],
      "execution_count": 0,
      "outputs": []
    },
    {
      "cell_type": "code",
      "metadata": {
        "id": "tyyy-LgCFp9n",
        "colab_type": "code",
        "colab": {}
      },
      "source": [
        "width = 32\n",
        "height = 32\n",
        "channel = 3"
      ],
      "execution_count": 0,
      "outputs": []
    },
    {
      "cell_type": "code",
      "metadata": {
        "id": "MUnkhC54IGGX",
        "colab_type": "code",
        "colab": {}
      },
      "source": [
        "shape = (width, height, channel)"
      ],
      "execution_count": 0,
      "outputs": []
    },
    {
      "cell_type": "code",
      "metadata": {
        "id": "vpGmwP83Hns0",
        "colab_type": "code",
        "colab": {}
      },
      "source": [
        "model.add(Conv2D(32, (3,3), padding = 'same', input_shape =shape))"
      ],
      "execution_count": 0,
      "outputs": []
    },
    {
      "cell_type": "code",
      "metadata": {
        "id": "a4ZQzMflIxvs",
        "colab_type": "code",
        "colab": {}
      },
      "source": [
        "model.add(Activation('relu'))"
      ],
      "execution_count": 0,
      "outputs": []
    },
    {
      "cell_type": "code",
      "metadata": {
        "id": "g9M_L0R5JuQ4",
        "colab_type": "code",
        "colab": {}
      },
      "source": [
        "model.add(BatchNormalization())"
      ],
      "execution_count": 0,
      "outputs": []
    },
    {
      "cell_type": "code",
      "metadata": {
        "id": "-67nuLSYKCTM",
        "colab_type": "code",
        "colab": {}
      },
      "source": [
        "model.add(Conv2D(32, (3,3), padding = 'same'))"
      ],
      "execution_count": 0,
      "outputs": []
    },
    {
      "cell_type": "code",
      "metadata": {
        "id": "x-0UFaSiKIcq",
        "colab_type": "code",
        "colab": {}
      },
      "source": [
        "model.add(Activation('relu'))"
      ],
      "execution_count": 0,
      "outputs": []
    },
    {
      "cell_type": "code",
      "metadata": {
        "id": "VaxKZt0yKMAC",
        "colab_type": "code",
        "colab": {}
      },
      "source": [
        "model.add(BatchNormalization())"
      ],
      "execution_count": 0,
      "outputs": []
    },
    {
      "cell_type": "code",
      "metadata": {
        "id": "4lznqnV_KeYZ",
        "colab_type": "code",
        "colab": {}
      },
      "source": [
        "model.add(MaxPooling2D(pool_size=(2,2)))"
      ],
      "execution_count": 0,
      "outputs": []
    },
    {
      "cell_type": "code",
      "metadata": {
        "id": "iQYwjZi3NEu2",
        "colab_type": "code",
        "colab": {}
      },
      "source": [
        "model.add(Conv2D(64, (3,3), padding = 'same'))"
      ],
      "execution_count": 0,
      "outputs": []
    },
    {
      "cell_type": "code",
      "metadata": {
        "id": "KdFRbMTfNxq1",
        "colab_type": "code",
        "colab": {}
      },
      "source": [
        "model.add(Activation('relu'))"
      ],
      "execution_count": 0,
      "outputs": []
    },
    {
      "cell_type": "code",
      "metadata": {
        "colab_type": "code",
        "id": "1BJpBbCkN28A",
        "colab": {}
      },
      "source": [
        "model.add(BatchNormalization())"
      ],
      "execution_count": 0,
      "outputs": []
    },
    {
      "cell_type": "code",
      "metadata": {
        "colab_type": "code",
        "id": "VN4IyZWgN9ZS",
        "colab": {}
      },
      "source": [
        "model.add(Conv2D(64, (3,3), padding = 'same'))"
      ],
      "execution_count": 0,
      "outputs": []
    },
    {
      "cell_type": "code",
      "metadata": {
        "colab_type": "code",
        "id": "i9hkb7-tN_NA",
        "colab": {}
      },
      "source": [
        "model.add(Activation('relu'))"
      ],
      "execution_count": 0,
      "outputs": []
    },
    {
      "cell_type": "code",
      "metadata": {
        "colab_type": "code",
        "id": "FSe3t79-OAXq",
        "colab": {}
      },
      "source": [
        "model.add(BatchNormalization())"
      ],
      "execution_count": 0,
      "outputs": []
    },
    {
      "cell_type": "code",
      "metadata": {
        "colab_type": "code",
        "id": "uITuJL-lOGkK",
        "colab": {}
      },
      "source": [
        "model.add(MaxPooling2D(pool_size=(2,2)))"
      ],
      "execution_count": 0,
      "outputs": []
    },
    {
      "cell_type": "code",
      "metadata": {
        "id": "ob2qp87qPCM_",
        "colab_type": "code",
        "colab": {}
      },
      "source": [
        "model.add(Flatten())"
      ],
      "execution_count": 0,
      "outputs": []
    },
    {
      "cell_type": "code",
      "metadata": {
        "id": "1TJTSaYIPFWk",
        "colab_type": "code",
        "colab": {}
      },
      "source": [
        "model.add(Dense(512))"
      ],
      "execution_count": 0,
      "outputs": []
    },
    {
      "cell_type": "code",
      "metadata": {
        "id": "z2Gp23ZNPaOg",
        "colab_type": "code",
        "colab": {}
      },
      "source": [
        "model.add(Activation('relu'))"
      ],
      "execution_count": 0,
      "outputs": []
    },
    {
      "cell_type": "code",
      "metadata": {
        "id": "SL8ec7xTP1Gp",
        "colab_type": "code",
        "colab": {}
      },
      "source": [
        "model.add(BatchNormalization())"
      ],
      "execution_count": 0,
      "outputs": []
    },
    {
      "cell_type": "code",
      "metadata": {
        "id": "NmLW4UxuPj8F",
        "colab_type": "code",
        "colab": {}
      },
      "source": [
        "model.add(Dense(43))"
      ],
      "execution_count": 0,
      "outputs": []
    },
    {
      "cell_type": "code",
      "metadata": {
        "id": "-K3nYqdUPm_0",
        "colab_type": "code",
        "colab": {}
      },
      "source": [
        "model.add(Activation('softmax'))"
      ],
      "execution_count": 0,
      "outputs": []
    },
    {
      "cell_type": "code",
      "metadata": {
        "id": "WL2POVc-IN6e",
        "colab_type": "code",
        "colab": {
          "base_uri": "https://localhost:8080/",
          "height": 833
        },
        "outputId": "d1aff489-1cc4-4b5f-b7b1-028590d58fb6"
      },
      "source": [
        "model.summary()"
      ],
      "execution_count": 60,
      "outputs": [
        {
          "output_type": "stream",
          "text": [
            "Model: \"sequential\"\n",
            "_________________________________________________________________\n",
            "Layer (type)                 Output Shape              Param #   \n",
            "=================================================================\n",
            "conv2d (Conv2D)              (None, 32, 32, 32)        896       \n",
            "_________________________________________________________________\n",
            "activation (Activation)      (None, 32, 32, 32)        0         \n",
            "_________________________________________________________________\n",
            "batch_normalization (BatchNo (None, 32, 32, 32)        128       \n",
            "_________________________________________________________________\n",
            "conv2d_1 (Conv2D)            (None, 32, 32, 32)        9248      \n",
            "_________________________________________________________________\n",
            "activation_1 (Activation)    (None, 32, 32, 32)        0         \n",
            "_________________________________________________________________\n",
            "batch_normalization_1 (Batch (None, 32, 32, 32)        128       \n",
            "_________________________________________________________________\n",
            "max_pooling2d (MaxPooling2D) (None, 16, 16, 32)        0         \n",
            "_________________________________________________________________\n",
            "conv2d_2 (Conv2D)            (None, 16, 16, 64)        18496     \n",
            "_________________________________________________________________\n",
            "activation_2 (Activation)    (None, 16, 16, 64)        0         \n",
            "_________________________________________________________________\n",
            "batch_normalization_2 (Batch (None, 16, 16, 64)        256       \n",
            "_________________________________________________________________\n",
            "conv2d_3 (Conv2D)            (None, 16, 16, 64)        36928     \n",
            "_________________________________________________________________\n",
            "activation_3 (Activation)    (None, 16, 16, 64)        0         \n",
            "_________________________________________________________________\n",
            "batch_normalization_3 (Batch (None, 16, 16, 64)        256       \n",
            "_________________________________________________________________\n",
            "max_pooling2d_1 (MaxPooling2 (None, 8, 8, 64)          0         \n",
            "_________________________________________________________________\n",
            "flatten (Flatten)            (None, 4096)              0         \n",
            "_________________________________________________________________\n",
            "dense (Dense)                (None, 512)               2097664   \n",
            "_________________________________________________________________\n",
            "activation_4 (Activation)    (None, 512)               0         \n",
            "_________________________________________________________________\n",
            "batch_normalization_4 (Batch (None, 512)               2048      \n",
            "_________________________________________________________________\n",
            "dense_1 (Dense)              (None, 43)                22059     \n",
            "_________________________________________________________________\n",
            "activation_5 (Activation)    (None, 43)                0         \n",
            "=================================================================\n",
            "Total params: 2,188,107\n",
            "Trainable params: 2,186,699\n",
            "Non-trainable params: 1,408\n",
            "_________________________________________________________________\n"
          ],
          "name": "stdout"
        }
      ]
    },
    {
      "cell_type": "code",
      "metadata": {
        "id": "uBblTaX2IQW9",
        "colab_type": "code",
        "colab": {}
      },
      "source": [
        "aug = ImageDataGenerator(rotation_range=0.1, zoom_range=0.15, width_shift_range= 0.2, height_shift_range=0.2, horizontal_flip=True)"
      ],
      "execution_count": 0,
      "outputs": []
    },
    {
      "cell_type": "code",
      "metadata": {
        "id": "ip6KQ4PGTtGG",
        "colab_type": "code",
        "colab": {}
      },
      "source": [
        "learning_rate = 0.01"
      ],
      "execution_count": 0,
      "outputs": []
    },
    {
      "cell_type": "code",
      "metadata": {
        "id": "stiTXbApTvdH",
        "colab_type": "code",
        "colab": {}
      },
      "source": [
        "epochs = 10\n",
        "batch_size = 64"
      ],
      "execution_count": 0,
      "outputs": []
    },
    {
      "cell_type": "code",
      "metadata": {
        "id": "RgmVn03aT1oU",
        "colab_type": "code",
        "colab": {}
      },
      "source": [
        "opt = SGD(learning_rate=learning_rate, momentum=0.9)"
      ],
      "execution_count": 0,
      "outputs": []
    },
    {
      "cell_type": "code",
      "metadata": {
        "id": "ZD9QSjK5T-_Y",
        "colab_type": "code",
        "colab": {}
      },
      "source": [
        "model.compile(optimizer=opt, loss='categorical_crossentropy', metrics=['accuracy'])"
      ],
      "execution_count": 0,
      "outputs": []
    },
    {
      "cell_type": "code",
      "metadata": {
        "id": "ENTwwHrfU95R",
        "colab_type": "code",
        "colab": {
          "base_uri": "https://localhost:8080/",
          "height": 445
        },
        "outputId": "cef5a6b8-8de5-437e-da90-00e189b73b05"
      },
      "source": [
        "print('[INFO] START TRAINING...')\n",
        "H = model.fit_generator(aug.flow(trainX, trainY, batch_size=batch_size), validation_data=(validX, validY), steps_per_epoch=trainX.shape[0]/batch_size, epochs = epochs, verbose = 1)"
      ],
      "execution_count": 66,
      "outputs": [
        {
          "output_type": "stream",
          "text": [
            "[INFO] START TRAINING...\n",
            "WARNING:tensorflow:From <ipython-input-66-e15cdc1c1136>:2: Model.fit_generator (from tensorflow.python.keras.engine.training) is deprecated and will be removed in a future version.\n",
            "Instructions for updating:\n",
            "Please use Model.fit, which supports generators.\n",
            "Epoch 1/10\n",
            "544/543 [==============================] - 18s 33ms/step - loss: 1.9179 - accuracy: 0.4404 - val_loss: 2.0593 - val_accuracy: 0.4395\n",
            "Epoch 2/10\n",
            "544/543 [==============================] - 18s 32ms/step - loss: 0.7214 - accuracy: 0.7614 - val_loss: 1.0037 - val_accuracy: 0.7111\n",
            "Epoch 3/10\n",
            "544/543 [==============================] - 18s 33ms/step - loss: 0.3356 - accuracy: 0.8912 - val_loss: 0.8468 - val_accuracy: 0.7465\n",
            "Epoch 4/10\n",
            "544/543 [==============================] - 18s 33ms/step - loss: 0.2069 - accuracy: 0.9327 - val_loss: 1.0260 - val_accuracy: 0.7388\n",
            "Epoch 5/10\n",
            "544/543 [==============================] - 18s 33ms/step - loss: 0.1405 - accuracy: 0.9541 - val_loss: 0.6281 - val_accuracy: 0.8433\n",
            "Epoch 6/10\n",
            "544/543 [==============================] - 18s 33ms/step - loss: 0.1099 - accuracy: 0.9655 - val_loss: 0.5843 - val_accuracy: 0.8460\n",
            "Epoch 7/10\n",
            "544/543 [==============================] - 18s 33ms/step - loss: 0.0883 - accuracy: 0.9709 - val_loss: 0.6398 - val_accuracy: 0.8624\n",
            "Epoch 8/10\n",
            "544/543 [==============================] - 18s 33ms/step - loss: 0.0735 - accuracy: 0.9762 - val_loss: 0.6031 - val_accuracy: 0.8603\n",
            "Epoch 9/10\n",
            "544/543 [==============================] - 18s 33ms/step - loss: 0.0543 - accuracy: 0.9823 - val_loss: 0.5405 - val_accuracy: 0.8855\n",
            "Epoch 10/10\n",
            "544/543 [==============================] - 18s 33ms/step - loss: 0.0539 - accuracy: 0.9831 - val_loss: 0.6220 - val_accuracy: 0.8637\n"
          ],
          "name": "stdout"
        }
      ]
    },
    {
      "cell_type": "code",
      "metadata": {
        "id": "mAO04D-0XvcI",
        "colab_type": "code",
        "colab": {}
      },
      "source": [
        "model.save('duynet.h5')"
      ],
      "execution_count": 0,
      "outputs": []
    },
    {
      "cell_type": "code",
      "metadata": {
        "id": "4fSf-PYZaNtR",
        "colab_type": "code",
        "colab": {}
      },
      "source": [
        "predictions = model.predict(testX, batch_size=batch_size)"
      ],
      "execution_count": 0,
      "outputs": []
    },
    {
      "cell_type": "code",
      "metadata": {
        "id": "Z2Z1A2u2aYoM",
        "colab_type": "code",
        "colab": {
          "base_uri": "https://localhost:8080/",
          "height": 238
        },
        "outputId": "8ddf0225-85b6-44ec-fed8-fc7e10adea81"
      },
      "source": [
        "predictions"
      ],
      "execution_count": 91,
      "outputs": [
        {
          "output_type": "execute_result",
          "data": {
            "text/plain": [
              "array([[5.9433015e-14, 1.0125517e-15, 1.3437057e-10, ..., 4.4042718e-13,\n",
              "        3.8561511e-12, 8.4140655e-12],\n",
              "       [1.6639912e-06, 9.9989223e-01, 3.0252550e-06, ..., 1.9230056e-08,\n",
              "        9.8474262e-10, 2.4057305e-09],\n",
              "       [6.8200350e-12, 3.3836693e-14, 2.9657718e-08, ..., 1.7050650e-09,\n",
              "        4.5837990e-11, 4.2560734e-12],\n",
              "       ...,\n",
              "       [1.4289883e-07, 5.9447135e-04, 1.0033657e-02, ..., 5.5537421e-06,\n",
              "        1.0275306e-03, 3.7873127e-03],\n",
              "       [7.7256180e-07, 4.9735841e-05, 6.4101546e-06, ..., 8.5900348e-07,\n",
              "        1.9416994e-08, 1.6201344e-07],\n",
              "       [4.5931228e-13, 6.4384340e-12, 8.9364254e-12, ..., 6.0546801e-10,\n",
              "        1.3395790e-10, 3.2946080e-08]], dtype=float32)"
            ]
          },
          "metadata": {
            "tags": []
          },
          "execution_count": 91
        }
      ]
    },
    {
      "cell_type": "code",
      "metadata": {
        "id": "ILvmeQyyacIi",
        "colab_type": "code",
        "colab": {}
      },
      "source": [
        "predictions = predictions.argmax(axis = 1)"
      ],
      "execution_count": 0,
      "outputs": []
    },
    {
      "cell_type": "code",
      "metadata": {
        "id": "a8VWq2Ufagqv",
        "colab_type": "code",
        "colab": {
          "base_uri": "https://localhost:8080/",
          "height": 34
        },
        "outputId": "cea15a04-3373-40a8-b685-34cf6279901b"
      },
      "source": [
        "predictions"
      ],
      "execution_count": 93,
      "outputs": [
        {
          "output_type": "execute_result",
          "data": {
            "text/plain": [
              "array([16,  1, 38, ...,  6,  7, 10])"
            ]
          },
          "metadata": {
            "tags": []
          },
          "execution_count": 93
        }
      ]
    },
    {
      "cell_type": "code",
      "metadata": {
        "id": "gvlaZgbObYq5",
        "colab_type": "code",
        "colab": {}
      },
      "source": [
        "predictions = predictions.reshape(-1, 1)"
      ],
      "execution_count": 0,
      "outputs": []
    },
    {
      "cell_type": "code",
      "metadata": {
        "id": "nOrthVqGd_AG",
        "colab_type": "code",
        "colab": {}
      },
      "source": [
        "testY = lb.transform(testY)"
      ],
      "execution_count": 0,
      "outputs": []
    },
    {
      "cell_type": "code",
      "metadata": {
        "id": "aJAeeBZBeK83",
        "colab_type": "code",
        "colab": {
          "base_uri": "https://localhost:8080/",
          "height": 34
        },
        "outputId": "6865339c-bf41-4d92-bdd1-5ce716383629"
      },
      "source": [
        "testY.shape"
      ],
      "execution_count": 108,
      "outputs": [
        {
          "output_type": "execute_result",
          "data": {
            "text/plain": [
              "(12630, 43)"
            ]
          },
          "metadata": {
            "tags": []
          },
          "execution_count": 108
        }
      ]
    },
    {
      "cell_type": "code",
      "metadata": {
        "id": "XvUKW5PVe0WF",
        "colab_type": "code",
        "colab": {}
      },
      "source": [
        "testY = testY.argmax(axis = 1)"
      ],
      "execution_count": 0,
      "outputs": []
    },
    {
      "cell_type": "code",
      "metadata": {
        "id": "jdkRsbE1chZc",
        "colab_type": "code",
        "colab": {}
      },
      "source": [
        "classNames_new = [classNames[i] for i in range(len(classNames))]"
      ],
      "execution_count": 0,
      "outputs": []
    },
    {
      "cell_type": "code",
      "metadata": {
        "id": "KGADn_imc_76",
        "colab_type": "code",
        "colab": {
          "base_uri": "https://localhost:8080/",
          "height": 748
        },
        "outputId": "5ea23b7a-f662-4574-c3ab-6638d1b0192c"
      },
      "source": [
        "classNames_new"
      ],
      "execution_count": 101,
      "outputs": [
        {
          "output_type": "execute_result",
          "data": {
            "text/plain": [
              "['Speed limit (20km/h)',\n",
              " 'Speed limit (30km/h)',\n",
              " 'Speed limit (50km/h)',\n",
              " 'Speed limit (60km/h)',\n",
              " 'Speed limit (70km/h)',\n",
              " 'Speed limit (80km/h)',\n",
              " 'End of speed limit (80km/h)',\n",
              " 'Speed limit (100km/h)',\n",
              " 'Speed limit (120km/h)',\n",
              " 'No passing',\n",
              " 'No passing for vehicles over 3.5 metric tons',\n",
              " 'Right-of-way at the next intersection',\n",
              " 'Priority road',\n",
              " 'Yield',\n",
              " 'Stop',\n",
              " 'No vehicles',\n",
              " 'Vehicles over 3.5 metric tons prohibited',\n",
              " 'No entry',\n",
              " 'General caution',\n",
              " 'Dangerous curve to the left',\n",
              " 'Dangerous curve to the right',\n",
              " 'Double curve',\n",
              " 'Bumpy road',\n",
              " 'Slippery road',\n",
              " 'Road narrows on the right',\n",
              " 'Road work',\n",
              " 'Traffic signals',\n",
              " 'Pedestrians',\n",
              " 'Children crossing',\n",
              " 'Bicycles crossing',\n",
              " 'Beware of ice/snow',\n",
              " 'Wild animals crossing',\n",
              " 'End of all speed and passing limits',\n",
              " 'Turn right ahead',\n",
              " 'Turn left ahead',\n",
              " 'Ahead only',\n",
              " 'Go straight or right',\n",
              " 'Go straight or left',\n",
              " 'Keep right',\n",
              " 'Keep left',\n",
              " 'Roundabout mandatory',\n",
              " 'End of no passing',\n",
              " 'End of no passing by vehicles over 3.5 metric tons']"
            ]
          },
          "metadata": {
            "tags": []
          },
          "execution_count": 101
        }
      ]
    },
    {
      "cell_type": "code",
      "metadata": {
        "id": "HyQB_SnOenPz",
        "colab_type": "code",
        "colab": {
          "base_uri": "https://localhost:8080/",
          "height": 867
        },
        "outputId": "55bace58-a730-483c-b345-934b9615fd71"
      },
      "source": [
        "from sklearn.metrics import classification_report\n",
        "\n",
        "print(classification_report(predictions, testY, target_names=classNames_new))"
      ],
      "execution_count": 110,
      "outputs": [
        {
          "output_type": "stream",
          "text": [
            "                                                    precision    recall  f1-score   support\n",
            "\n",
            "                              Speed limit (20km/h)       0.88      0.83      0.85        64\n",
            "                              Speed limit (30km/h)       0.94      0.84      0.89       807\n",
            "                              Speed limit (50km/h)       0.86      0.84      0.85       771\n",
            "                              Speed limit (60km/h)       0.97      0.82      0.89       528\n",
            "                              Speed limit (70km/h)       0.92      0.94      0.93       641\n",
            "                              Speed limit (80km/h)       0.80      0.94      0.87       538\n",
            "                       End of speed limit (80km/h)       0.82      1.00      0.90       123\n",
            "                             Speed limit (100km/h)       0.92      0.90      0.91       458\n",
            "                             Speed limit (120km/h)       0.90      0.95      0.93       427\n",
            "                                        No passing       0.99      0.95      0.97       500\n",
            "      No passing for vehicles over 3.5 metric tons       0.97      0.99      0.98       649\n",
            "             Right-of-way at the next intersection       0.91      0.92      0.92       414\n",
            "                                     Priority road       0.94      0.95      0.95       680\n",
            "                                             Yield       0.98      0.97      0.97       725\n",
            "                                              Stop       1.00      0.99      1.00       272\n",
            "                                       No vehicles       1.00      0.99      0.99       211\n",
            "          Vehicles over 3.5 metric tons prohibited       0.99      0.97      0.98       154\n",
            "                                          No entry       0.84      1.00      0.91       302\n",
            "                                   General caution       0.69      0.99      0.81       270\n",
            "                       Dangerous curve to the left       0.97      0.34      0.50       171\n",
            "                      Dangerous curve to the right       0.07      0.55      0.12        11\n",
            "                                      Double curve       0.66      0.64      0.65        92\n",
            "                                        Bumpy road       0.75      0.87      0.81       103\n",
            "                                     Slippery road       0.85      0.72      0.78       177\n",
            "                         Road narrows on the right       0.82      1.00      0.90        74\n",
            "                                         Road work       0.95      0.73      0.83       623\n",
            "                                   Traffic signals       0.72      0.94      0.82       139\n",
            "                                       Pedestrians       0.50      0.48      0.49        63\n",
            "                                 Children crossing       0.89      0.99      0.93       135\n",
            "                                 Bicycles crossing       1.00      0.66      0.79       137\n",
            "                                Beware of ice/snow       0.61      0.88      0.72       103\n",
            "                             Wild animals crossing       0.93      0.97      0.95       260\n",
            "               End of all speed and passing limits       1.00      1.00      1.00        60\n",
            "                                  Turn right ahead       0.88      0.76      0.81       245\n",
            "                                   Turn left ahead       0.49      0.87      0.63        68\n",
            "                                        Ahead only       0.96      0.87      0.91       428\n",
            "                              Go straight or right       0.56      0.57      0.57       117\n",
            "                               Go straight or left       0.07      0.15      0.09        26\n",
            "                                        Keep right       0.93      0.84      0.89       766\n",
            "                                         Keep left       0.09      0.23      0.13        35\n",
            "                              Roundabout mandatory       0.96      0.80      0.87       108\n",
            "                                 End of no passing       1.00      0.63      0.77        95\n",
            "End of no passing by vehicles over 3.5 metric tons       0.62      0.93      0.75        60\n",
            "\n",
            "                                          accuracy                           0.88     12630\n",
            "                                         macro avg       0.80      0.82      0.80     12630\n",
            "                                      weighted avg       0.90      0.88      0.88     12630\n",
            "\n"
          ],
          "name": "stdout"
        }
      ]
    },
    {
      "cell_type": "code",
      "metadata": {
        "id": "ZZbYIEm3hAjs",
        "colab_type": "code",
        "colab": {
          "base_uri": "https://localhost:8080/",
          "height": 34
        },
        "outputId": "1ab44385-365e-46d3-ee3a-2c68001b9d25"
      },
      "source": [
        "testX.shape"
      ],
      "execution_count": 111,
      "outputs": [
        {
          "output_type": "execute_result",
          "data": {
            "text/plain": [
              "(12630, 32, 32, 3)"
            ]
          },
          "metadata": {
            "tags": []
          },
          "execution_count": 111
        }
      ]
    },
    {
      "cell_type": "code",
      "metadata": {
        "id": "QczL9WGflQR1",
        "colab_type": "code",
        "colab": {
          "base_uri": "https://localhost:8080/",
          "height": 34
        },
        "outputId": "044da26e-f2da-43ce-bb11-a292c97c14ad"
      },
      "source": [
        "predictions[1]"
      ],
      "execution_count": 112,
      "outputs": [
        {
          "output_type": "execute_result",
          "data": {
            "text/plain": [
              "array([1])"
            ]
          },
          "metadata": {
            "tags": []
          },
          "execution_count": 112
        }
      ]
    },
    {
      "cell_type": "code",
      "metadata": {
        "id": "QGWRRl1ve93v",
        "colab_type": "code",
        "colab": {
          "base_uri": "https://localhost:8080/",
          "height": 1000
        },
        "outputId": "82adf7b5-c22d-4076-cf7d-e002f928c1c1"
      },
      "source": [
        "random_number = 15\n",
        "\n",
        "import numpy as np\n",
        "np.random.seed(42)\n",
        "fig = plt.figure(figsize = (30, 20))\n",
        "\n",
        "for i, idx in enumerate(np.random.choice(testX.shape[0], size = random_number, replace = False)):\n",
        "  ax = fig.add_subplot(4,4,i+1, xticks = [], yticks = [])\n",
        "  ax.imshow(testX[idx])\n",
        "  pred_idx = predictions[idx]\n",
        "  true_idx = testY[idx]\n",
        "  ax.set_title('Prediction:{}\\nTrue Label:{}'.format(classNames_new[int(pred_idx)], classNames_new[int(true_idx)]), color = ('green' if pred_idx == true_idx else 'red'))"
      ],
      "execution_count": 119,
      "outputs": [
        {
          "output_type": "display_data",
          "data": {
            "image/png": "[encoded data removed]",
            "text/plain": [
              "<Figure size 2160x1440 with 15 Axes>"
            ]
          },
          "metadata": {
            "tags": []
          }
        }
      ]
    }
  ]
}